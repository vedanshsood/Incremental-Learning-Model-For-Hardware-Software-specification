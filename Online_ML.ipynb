{
 "cells": [
  {
   "cell_type": "code",
   "execution_count": 1,
   "id": "d5060ed4-b52e-4c3b-a4cd-28db276263b9",
   "metadata": {},
   "outputs": [],
   "source": [
    "import pandas as pd\n",
    "import river"
   ]
  },
  {
   "cell_type": "code",
   "execution_count": 2,
   "id": "d1c16a79-bd8e-4ecc-895f-a6084865c69f",
   "metadata": {},
   "outputs": [
    {
     "data": {
      "text/plain": [
       "['__builtins__',\n",
       " '__cached__',\n",
       " '__doc__',\n",
       " '__file__',\n",
       " '__loader__',\n",
       " '__name__',\n",
       " '__package__',\n",
       " '__path__',\n",
       " '__spec__',\n",
       " '__version__',\n",
       " 'annotations']"
      ]
     },
     "execution_count": 2,
     "metadata": {},
     "output_type": "execute_result"
    }
   ],
   "source": [
    "dir(river)"
   ]
  },
  {
   "cell_type": "code",
   "execution_count": 3,
   "id": "f0b3ea9c-4bdc-4cf0-9b2e-b041a6c9a703",
   "metadata": {},
   "outputs": [],
   "source": [
    "from river.linear_model import LogisticRegression\n",
    "from river.naive_bayes import MultinomialNB\n",
    "from river.feature_extraction import BagOfWords,TFIDF"
   ]
  },
  {
   "cell_type": "code",
   "execution_count": 4,
   "id": "56272399-b232-4918-847c-5975a6872417",
   "metadata": {},
   "outputs": [],
   "source": [
    "data = [\n",
    "    (\"my unit test failed\", \"software\"),\n",
    "    (\"tried the program, but it was buggy\", \"software\"),\n",
    "    (\"i need a new power supply\", \"hardware\"), \n",
    "    (\"the drive has a 2TB capacity\", \"hardware\"),\n",
    "    (\"unit-tests\",\"software\"),\n",
    "    (\"program\", \"software\"),\n",
    "    (\"power supply\", \"hardware\"),\n",
    "    (\"drive\", \"hardware\"),\n",
    "    (\"it needs more memory\", \"hardware\"),\n",
    "    (\"check the API\", \"software\"),\n",
    "    (\"design the API\", \"software\"),\n",
    "    (\"they need more CPU\", \"hardware\"),\n",
    "    (\"code\", \"software\"),\n",
    "    (\"i found some bugs in the code\", \"software\"),\n",
    "    (\"i swapped the memory\", \"hardware\"),\n",
    "    (\"i tested the code\", \"software\")\n",
    "]\n"
   ]
  },
  {
   "cell_type": "code",
   "execution_count": 5,
   "id": "02201776-922a-40e1-a1bd-482e46fba635",
   "metadata": {},
   "outputs": [],
   "source": [
    "test_data = [\n",
    "    ('he writes code daily', 'software'),\n",
    "    ('the disk is faulty', 'hardware'),\n",
    "    (\"refactor the code\", \"software\"),\n",
    "    ('no empty space on the drive', 'hardware')\n",
    "]"
   ]
  },
  {
   "cell_type": "code",
   "execution_count": 6,
   "id": "60653c32-2769-4e07-9f74-aa7c317da641",
   "metadata": {},
   "outputs": [],
   "source": [
    "from river.compose import Pipeline"
   ]
  },
  {
   "cell_type": "code",
   "execution_count": 7,
   "id": "68829b1a-f7d1-4795-b39e-637adce74e81",
   "metadata": {},
   "outputs": [],
   "source": [
    "pipe_nb = Pipeline(('vectorizer',BagOfWords(lowercase=True)),('nb',MultinomialNB()))"
   ]
  },
  {
   "cell_type": "code",
   "execution_count": 8,
   "id": "19effd32-7b1d-4527-b7db-fc680b71e4ef",
   "metadata": {},
   "outputs": [
    {
     "data": {
      "text/html": [
       "<div><div class=\"river-component river-pipeline\"><details class=\"river-component river-estimator\"><summary class=\"river-summary\"><pre class=\"river-estimator-name\">BagOfWords</pre></summary><code class=\"river-estimator-params\">BagOfWords (\n",
       "  on=None\n",
       "  strip_accents=True\n",
       "  lowercase=True\n",
       "  preprocessor=None\n",
       "  stop_words=None\n",
       "  tokenizer_pattern=\"(?u)\\b\\w[\\w\\-]+\\b\"\n",
       "  tokenizer=None\n",
       "  ngram_range=(1, 1)\n",
       ")\n",
       "</code></details><details class=\"river-component river-estimator\"><summary class=\"river-summary\"><pre class=\"river-estimator-name\">MultinomialNB</pre></summary><code class=\"river-estimator-params\">MultinomialNB (\n",
       "  alpha=1.\n",
       ")\n",
       "</code></details></div><style scoped>\n",
       ".river-estimator {\n",
       "    padding: 1em;\n",
       "    border-style: solid;\n",
       "    background: white;\n",
       "    max-width: max-content;\n",
       "}\n",
       "\n",
       ".river-pipeline {\n",
       "    display: flex;\n",
       "    flex-direction: column;\n",
       "    align-items: center;\n",
       "    background: linear-gradient(#000, #000) no-repeat center / 1.5px 100%;\n",
       "}\n",
       "\n",
       ".river-union {\n",
       "    display: flex;\n",
       "    flex-direction: row;\n",
       "    align-items: center;\n",
       "    justify-content: center;\n",
       "    padding: 1em;\n",
       "    border-style: solid;\n",
       "    background: white;\n",
       "}\n",
       "\n",
       ".river-wrapper {\n",
       "    display: flex;\n",
       "    flex-direction: column;\n",
       "    align-items: center;\n",
       "    justify-content: center;\n",
       "    padding: 1em;\n",
       "    border-style: solid;\n",
       "    background: white;\n",
       "}\n",
       "\n",
       ".river-wrapper > .river-estimator {\n",
       "    margin-top: 1em;\n",
       "}\n",
       "\n",
       "/* Vertical spacing between steps */\n",
       "\n",
       ".river-component + .river-component {\n",
       "    margin-top: 2em;\n",
       "}\n",
       "\n",
       ".river-union > .river-estimator {\n",
       "    margin-top: 0;\n",
       "}\n",
       "\n",
       ".river-union > .river-component {\n",
       "    margin-top: 0;\n",
       "}\n",
       "\n",
       ".river-union > .pipeline {\n",
       "    margin-top: 0;\n",
       "}\n",
       "\n",
       "/* Spacing within a union of estimators */\n",
       "\n",
       ".river-union > .river-component + .river-component {\n",
       "    margin-left: 1em;\n",
       "}\n",
       "\n",
       "/* Typography */\n",
       "\n",
       ".river-estimator-params {\n",
       "    display: block;\n",
       "    white-space: pre-wrap;\n",
       "    font-size: 110%;\n",
       "    margin-top: 1em;\n",
       "}\n",
       "\n",
       ".river-estimator > .river-estimator-params,\n",
       ".river-wrapper > .river-details > river-estimator-params {\n",
       "    background-color: white !important;\n",
       "}\n",
       "\n",
       ".river-wrapper > .river-details {\n",
       "    margin-bottom: 1em;\n",
       "}\n",
       "\n",
       ".river-estimator-name {\n",
       "    display: inline;\n",
       "    margin: 0;\n",
       "    font-size: 110%;\n",
       "}\n",
       "\n",
       "/* Toggle */\n",
       "\n",
       ".river-summary {\n",
       "    display: flex;\n",
       "    align-items:center;\n",
       "    cursor: pointer;\n",
       "}\n",
       "\n",
       ".river-summary > div {\n",
       "    width: 100%;\n",
       "}\n",
       "</style></div>"
      ],
      "text/plain": [
       "Pipeline (\n",
       "  BagOfWords (\n",
       "    on=None\n",
       "    strip_accents=True\n",
       "    lowercase=True\n",
       "    preprocessor=None\n",
       "    stop_words=None\n",
       "    tokenizer_pattern=\"(?u)\\b\\w[\\w\\-]+\\b\"\n",
       "    tokenizer=None\n",
       "    ngram_range=(1, 1)\n",
       "  ),\n",
       "  MultinomialNB (\n",
       "    alpha=1.\n",
       "  )\n",
       ")"
      ]
     },
     "execution_count": 8,
     "metadata": {},
     "output_type": "execute_result"
    }
   ],
   "source": [
    "pipe_nb"
   ]
  },
  {
   "cell_type": "code",
   "execution_count": 9,
   "id": "2dbdfdd4-da00-4b8a-baef-200e26bc61e4",
   "metadata": {},
   "outputs": [
    {
     "data": {
      "text/plain": [
       "OrderedDict([('vectorizer',\n",
       "              BagOfWords (\n",
       "                on=None\n",
       "                strip_accents=True\n",
       "                lowercase=True\n",
       "                preprocessor=None\n",
       "                stop_words=None\n",
       "                tokenizer_pattern=\"(?u)\\b\\w[\\w\\-]+\\b\"\n",
       "                tokenizer=None\n",
       "                ngram_range=(1, 1)\n",
       "              )),\n",
       "             ('nb',\n",
       "              MultinomialNB (\n",
       "                alpha=1.\n",
       "              ))])"
      ]
     },
     "execution_count": 9,
     "metadata": {},
     "output_type": "execute_result"
    }
   ],
   "source": [
    "pipe_nb.steps"
   ]
  },
  {
   "cell_type": "code",
   "execution_count": 10,
   "id": "ce194685-e62b-4e5c-94c1-1013ea167eef",
   "metadata": {},
   "outputs": [],
   "source": [
    "for text, label in data:\n",
    "    pipe_nb.learn_one(text, label)"
   ]
  },
  {
   "cell_type": "code",
   "execution_count": 11,
   "id": "b9a9e2fd-8159-4322-837c-55cf937bf14d",
   "metadata": {},
   "outputs": [
    {
     "data": {
      "text/plain": [
       "'software'"
      ]
     },
     "execution_count": 11,
     "metadata": {},
     "output_type": "execute_result"
    }
   ],
   "source": [
    "pipe_nb.predict_one(\"I made an API\")"
   ]
  },
  {
   "cell_type": "code",
   "execution_count": 12,
   "id": "4e51052b-1541-40a5-bc42-577dea14c98d",
   "metadata": {},
   "outputs": [
    {
     "data": {
      "text/plain": [
       "'hardware'"
      ]
     },
     "execution_count": 12,
     "metadata": {},
     "output_type": "execute_result"
    }
   ],
   "source": [
    "pipe_nb.predict_one(\"The Hard drive is damaged\")"
   ]
  },
  {
   "cell_type": "code",
   "execution_count": 13,
   "id": "7d738769-db0c-4981-9127-9b6c46f48567",
   "metadata": {},
   "outputs": [
    {
     "data": {
      "text/plain": [
       "'hardware'"
      ]
     },
     "execution_count": 13,
     "metadata": {},
     "output_type": "execute_result"
    }
   ],
   "source": [
    "pipe_nb.predict_one(\"The CPU is damaged\")"
   ]
  },
  {
   "cell_type": "code",
   "execution_count": 14,
   "id": "0255e55a-3953-440e-ae26-0d1777311643",
   "metadata": {},
   "outputs": [
    {
     "data": {
      "text/plain": [
       "'software'"
      ]
     },
     "execution_count": 14,
     "metadata": {},
     "output_type": "execute_result"
    }
   ],
   "source": [
    "pipe_nb.predict_one(\"I made motherboard\") #Error"
   ]
  },
  {
   "cell_type": "code",
   "execution_count": 15,
   "id": "eea8fb13-9bed-429a-9294-0191af7d3959",
   "metadata": {},
   "outputs": [
    {
     "data": {
      "text/plain": [
       "{'software': 0.5136052113727353, 'hardware': 0.48639478862726443}"
      ]
     },
     "execution_count": 15,
     "metadata": {},
     "output_type": "execute_result"
    }
   ],
   "source": [
    "pipe_nb.predict_proba_one(\"I made motherboard\") #Error"
   ]
  },
  {
   "cell_type": "code",
   "execution_count": 16,
   "id": "845bc03a-bb53-4b0a-8852-bfde065c1f49",
   "metadata": {},
   "outputs": [
    {
     "data": {
      "text/plain": [
       "{'software': 0.46444862782340723, 'hardware': 0.5355513721765931}"
      ]
     },
     "execution_count": 16,
     "metadata": {},
     "output_type": "execute_result"
    }
   ],
   "source": [
    "pipe_nb.predict_proba_one(\"The CPU is damaged\")"
   ]
  },
  {
   "cell_type": "code",
   "execution_count": 17,
   "id": "61cf0757-6e87-4aa1-a8d4-4253a840295e",
   "metadata": {},
   "outputs": [],
   "source": [
    "from river.metrics import ClassificationReport\n",
    "classification_report = ClassificationReport()\n",
    "for x,y in test_data:\n",
    "    res = pipe_nb.predict_one(x)\n",
    "    classification_report.update(y, res)\n"
   ]
  },
  {
   "cell_type": "code",
   "execution_count": 18,
   "id": "5e1ceefc-e536-44f7-b948-e7149bb925a6",
   "metadata": {},
   "outputs": [
    {
     "name": "stdout",
     "output_type": "stream",
     "text": [
      "           Precision   Recall    F1       Support  \n",
      "                                                   \n",
      "hardware     100.00%    50.00%   66.67%         2  \n",
      "software      66.67%   100.00%   80.00%         2  \n",
      "                                                   \n",
      "   Macro      83.33%    75.00%   73.33%            \n",
      "   Micro      75.00%    75.00%   75.00%            \n",
      "Weighted      83.33%    75.00%   73.33%            \n",
      "\n",
      "                  75.00% accuracy                  \n"
     ]
    }
   ],
   "source": [
    "print(classification_report)"
   ]
  },
  {
   "cell_type": "markdown",
   "id": "331acf15-069f-4643-9300-88a580cefe4a",
   "metadata": {},
   "source": [
    "**Update the Model**"
   ]
  },
  {
   "cell_type": "code",
   "execution_count": 21,
   "id": "8e1ea9f9-647f-4a36-b2c0-77a7939c1b00",
   "metadata": {},
   "outputs": [],
   "source": [
    "metric = river.metrics.Accuracy()\n",
    "for text,label in test_data:\n",
    "    y_pred_before = pipe_nb.predict_one(text)\n",
    "    metric.update(label,y_pred_before)\n",
    "    pipe_nb.learn_one(text, label)"
   ]
  },
  {
   "cell_type": "code",
   "execution_count": 22,
   "id": "bd117c25-d8a8-41cf-875f-18f40c15b3bd",
   "metadata": {},
   "outputs": [
    {
     "data": {
      "text/plain": [
       "Accuracy: 75.00%"
      ]
     },
     "execution_count": 22,
     "metadata": {},
     "output_type": "execute_result"
    }
   ],
   "source": [
    "metric"
   ]
  },
  {
   "cell_type": "code",
   "execution_count": 23,
   "id": "97129ad2-ded4-4052-9513-af979631999e",
   "metadata": {},
   "outputs": [],
   "source": [
    "metric2 = river.metrics.Accuracy()\n",
    "for text,label in test_data:\n",
    "    y_pred_before = pipe_nb.predict_one(text)\n",
    "    metric2.update(label,y_pred_before)\n",
    "    pipe_nb.learn_one(text, label)"
   ]
  },
  {
   "cell_type": "code",
   "execution_count": 25,
   "id": "0e3a48ce-24cc-4c9c-b09d-e251253b585f",
   "metadata": {},
   "outputs": [
    {
     "data": {
      "text/plain": [
       "Accuracy: 100.00%"
      ]
     },
     "execution_count": 25,
     "metadata": {},
     "output_type": "execute_result"
    }
   ],
   "source": [
    "metric2 #updated accuracy"
   ]
  },
  {
   "cell_type": "code",
   "execution_count": null,
   "id": "66c28ff6-3fa2-4cde-b5d5-239d60bff4f8",
   "metadata": {},
   "outputs": [],
   "source": []
  }
 ],
 "metadata": {
  "kernelspec": {
   "display_name": "Python 3 (ipykernel)",
   "language": "python",
   "name": "python3"
  },
  "language_info": {
   "codemirror_mode": {
    "name": "ipython",
    "version": 3
   },
   "file_extension": ".py",
   "mimetype": "text/x-python",
   "name": "python",
   "nbconvert_exporter": "python",
   "pygments_lexer": "ipython3",
   "version": "3.11.4"
  }
 },
 "nbformat": 4,
 "nbformat_minor": 5
}
